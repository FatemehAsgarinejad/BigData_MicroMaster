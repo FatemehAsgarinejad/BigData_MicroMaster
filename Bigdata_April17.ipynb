{
 "cells": [
  {
   "cell_type": "code",
   "execution_count": 1,
   "metadata": {
    "ExecuteTime": {
     "end_time": "2019-04-17T18:50:47.145106Z",
     "start_time": "2019-04-17T18:50:47.136462Z"
    }
   },
   "outputs": [],
   "source": [
    "import numpy as np"
   ]
  },
  {
   "cell_type": "code",
   "execution_count": 4,
   "metadata": {
    "ExecuteTime": {
     "end_time": "2019-04-17T18:51:50.456409Z",
     "start_time": "2019-04-17T18:51:50.420786Z"
    }
   },
   "outputs": [
    {
     "data": {
      "text/plain": [
       "array([[ 1,  2,  3,  4,  5,  6,  7,  8,  9, 10, 11, 12, 13, 14, 15, 16,\n",
       "        17, 18, 19, 20, 21, 22, 23, 24, 25, 26, 27, 28, 29, 30]])"
      ]
     },
     "execution_count": 4,
     "metadata": {},
     "output_type": "execute_result"
    }
   ],
   "source": [
    "#declarea an array\n",
    "a = np.array([range(1,31)])\n",
    "a"
   ]
  },
  {
   "cell_type": "code",
   "execution_count": 5,
   "metadata": {
    "ExecuteTime": {
     "end_time": "2019-04-17T18:52:32.654443Z",
     "start_time": "2019-04-17T18:52:32.638200Z"
    }
   },
   "outputs": [
    {
     "data": {
      "text/plain": [
       "array([[ 1,  2,  3,  4,  5,  6,  7,  8,  9, 10],\n",
       "       [11, 12, 13, 14, 15, 16, 17, 18, 19, 20],\n",
       "       [21, 22, 23, 24, 25, 26, 27, 28, 29, 30]])"
      ]
     },
     "execution_count": 5,
     "metadata": {},
     "output_type": "execute_result"
    }
   ],
   "source": [
    "#reshaping the declared array in 3 rows and 10 columns\n",
    "a.reshape([3,10])"
   ]
  },
  {
   "cell_type": "code",
   "execution_count": 26,
   "metadata": {
    "ExecuteTime": {
     "end_time": "2019-04-17T18:58:17.158821Z",
     "start_time": "2019-04-17T18:58:17.146120Z"
    }
   },
   "outputs": [
    {
     "data": {
      "text/plain": [
       "array([[ 1,  2,  3,  4,  5,  6,  7,  8,  9, 10],\n",
       "       [11, 12, 13, 14, 15, 16, 17, 18, 19, 20],\n",
       "       [21, 22, 23, 24, 25, 26, 27, 28, 29, 30]])"
      ]
     },
     "execution_count": 26,
     "metadata": {},
     "output_type": "execute_result"
    }
   ],
   "source": [
    "reshaped_a = a.reshape([3,10])\n",
    "reshaped_a"
   ]
  },
  {
   "cell_type": "code",
   "execution_count": 27,
   "metadata": {
    "ExecuteTime": {
     "end_time": "2019-04-17T18:58:18.482797Z",
     "start_time": "2019-04-17T18:58:18.471901Z"
    }
   },
   "outputs": [
    {
     "data": {
      "text/plain": [
       "(3, 10)"
      ]
     },
     "execution_count": 27,
     "metadata": {},
     "output_type": "execute_result"
    }
   ],
   "source": [
    "reshaped_a.shape"
   ]
  },
  {
   "cell_type": "code",
   "execution_count": 35,
   "metadata": {
    "ExecuteTime": {
     "end_time": "2019-04-17T18:59:32.200080Z",
     "start_time": "2019-04-17T18:59:32.188207Z"
    }
   },
   "outputs": [],
   "source": [
    "#declaring a function for reshaping a given array a, to an array with n rows and m columns\n",
    "def reshape_array(a,n,m):\n",
    "    if n*m == a.shape[0]*a.shape[1]:\n",
    "        return a.reshape([n,m])\n",
    "    else:\n",
    "        print(\"ValueError: cannot reshape array of size\", a.shape[0]*a.shape[1], \"into shape (\",n,\",\",m,\")\")"
   ]
  },
  {
   "cell_type": "code",
   "execution_count": 36,
   "metadata": {
    "ExecuteTime": {
     "end_time": "2019-04-17T18:59:33.832500Z",
     "start_time": "2019-04-17T18:59:33.823896Z"
    }
   },
   "outputs": [
    {
     "data": {
      "text/plain": [
       "array([[ 1,  2,  3,  4,  5,  6,  7,  8,  9, 10, 11, 12, 13, 14, 15, 16,\n",
       "        17, 18, 19, 20, 21, 22, 23, 24, 25, 26, 27, 28, 29, 30]])"
      ]
     },
     "execution_count": 36,
     "metadata": {},
     "output_type": "execute_result"
    }
   ],
   "source": [
    "a"
   ]
  },
  {
   "cell_type": "code",
   "execution_count": 37,
   "metadata": {
    "ExecuteTime": {
     "end_time": "2019-04-17T18:59:35.396347Z",
     "start_time": "2019-04-17T18:59:35.385180Z"
    }
   },
   "outputs": [
    {
     "name": "stdout",
     "output_type": "stream",
     "text": [
      "ValueError: cannot reshape array of size 30 into shape ( 5 , 3 )\n"
     ]
    }
   ],
   "source": [
    "reshape_array(a,5,3)"
   ]
  },
  {
   "cell_type": "code",
   "execution_count": 40,
   "metadata": {
    "ExecuteTime": {
     "end_time": "2019-04-17T19:01:50.682950Z",
     "start_time": "2019-04-17T19:01:50.672476Z"
    }
   },
   "outputs": [
    {
     "data": {
      "text/plain": [
       "array([[ 1,  2,  3,  4,  5,  6],\n",
       "       [ 7,  8,  9, 10, 11, 12],\n",
       "       [13, 14, 15, 16, 17, 18],\n",
       "       [19, 20, 21, 22, 23, 24],\n",
       "       [25, 26, 27, 28, 29, 30]])"
      ]
     },
     "execution_count": 40,
     "metadata": {},
     "output_type": "execute_result"
    }
   ],
   "source": [
    "reshaped_a = reshape_array(a,5,6)\n",
    "reshaped_a"
   ]
  },
  {
   "cell_type": "markdown",
   "metadata": {},
   "source": [
    "<p style=\"background-color:Tomato;\">accessing row by row is more local than accessing column by column</p>\n",
    "<p style=\"color:green;\">Since, each a[i][j] is one step far from a[i][j+1] in the above array</p>\n",
    "<p style=\"color:green;\">Wheraes, each a[i][j] is 6 steps far from a[i+1][j] in the above array</p>"
   ]
  },
  {
   "cell_type": "markdown",
   "metadata": {
    "ExecuteTime": {
     "end_time": "2019-04-17T19:09:15.750020Z",
     "start_time": "2019-04-17T19:09:15.738896Z"
    }
   },
   "source": [
    "<p style=\"background-color:gold;\">Comparing the difference between row-by-row and column-by-column accessing Time</p>"
   ]
  },
  {
   "cell_type": "code",
   "execution_count": 46,
   "metadata": {
    "ExecuteTime": {
     "end_time": "2019-04-17T19:12:01.931794Z",
     "start_time": "2019-04-17T19:12:01.915513Z"
    }
   },
   "outputs": [
    {
     "name": "stdout",
     "output_type": "stream",
     "text": [
      "Elapsed time is:  0.0001678466796875\n"
     ]
    }
   ],
   "source": [
    "#Irrelevant | simple time measurement\n",
    "import time\n",
    "start = time. time()\n",
    "s = 0\n",
    "for i in reshaped_a:\n",
    "    s+= i\n",
    "end = time. time()\n",
    "print(\"Elapsed time is: \", end-start)"
   ]
  },
  {
   "cell_type": "code",
   "execution_count": 52,
   "metadata": {
    "ExecuteTime": {
     "end_time": "2019-04-17T19:15:05.906474Z",
     "start_time": "2019-04-17T19:15:05.894319Z"
    }
   },
   "outputs": [
    {
     "data": {
      "text/plain": [
       "array([[ 0,  1,  2,  3],\n",
       "       [ 4,  5,  6,  7],\n",
       "       [ 8,  9, 10, 11],\n",
       "       [12, 13, 14, 15],\n",
       "       [16, 17, 18, 19],\n",
       "       [20, 21, 22, 23],\n",
       "       [24, 25, 26, 27],\n",
       "       [28, 29, 30, 31],\n",
       "       [32, 33, 34, 35],\n",
       "       [36, 37, 38, 39],\n",
       "       [40, 41, 42, 43],\n",
       "       [44, 45, 46, 47]])"
      ]
     },
     "execution_count": 52,
     "metadata": {},
     "output_type": "execute_result"
    }
   ],
   "source": [
    "matrix = np.array([range(0,48)]).reshape(12,4)\n",
    "matrix"
   ]
  },
  {
   "cell_type": "markdown",
   "metadata": {
    "ExecuteTime": {
     "end_time": "2019-04-17T19:16:48.753010Z",
     "start_time": "2019-04-17T19:16:48.740941Z"
    }
   },
   "source": [
    "<p style=\"color:gray;\">Row by Row approach</p>"
   ]
  },
  {
   "cell_type": "code",
   "execution_count": 83,
   "metadata": {
    "ExecuteTime": {
     "end_time": "2019-04-17T19:21:41.059541Z",
     "start_time": "2019-04-17T19:21:41.041521Z"
    }
   },
   "outputs": [],
   "source": [
    "start = time.time()\n",
    "s = 0\n",
    "for i in range(matrix.shape[0]):\n",
    "    for j in range(matrix.shape[1]):\n",
    "        s+=matrix[i][j]\n",
    "end = time.time()\n",
    "row_by_row =end - start"
   ]
  },
  {
   "cell_type": "markdown",
   "metadata": {},
   "source": [
    "<p style=\"color:gray;\">Column by Column approach</p>"
   ]
  },
  {
   "cell_type": "code",
   "execution_count": 84,
   "metadata": {
    "ExecuteTime": {
     "end_time": "2019-04-17T19:21:42.253135Z",
     "start_time": "2019-04-17T19:21:42.235162Z"
    }
   },
   "outputs": [],
   "source": [
    "start = time.time()\n",
    "s = 0\n",
    "for j in range(matrix.shape[1]):\n",
    "    for i in range(matrix.shape[0]):\n",
    "        s+=matrix[i][j]\n",
    "end = time.time()\n",
    "column_by_column =end - start"
   ]
  },
  {
   "cell_type": "code",
   "execution_count": 85,
   "metadata": {
    "ExecuteTime": {
     "end_time": "2019-04-17T19:21:44.418935Z",
     "start_time": "2019-04-17T19:21:44.409369Z"
    }
   },
   "outputs": [
    {
     "data": {
      "text/plain": [
       "-0.00024175643920898438"
      ]
     },
     "execution_count": 85,
     "metadata": {},
     "output_type": "execute_result"
    }
   ],
   "source": [
    "column_by_column - row_by_row"
   ]
  },
  {
   "cell_type": "markdown",
   "metadata": {
    "ExecuteTime": {
     "end_time": "2019-04-17T19:22:34.479604Z",
     "start_time": "2019-04-17T19:22:34.467680Z"
    }
   },
   "source": [
    "<p style=\"color:tomato;\">Maybe the problem is with my code or the small size of the matrix, etc.</p>"
   ]
  },
  {
   "cell_type": "code",
   "execution_count": 122,
   "metadata": {
    "ExecuteTime": {
     "end_time": "2019-04-17T19:33:52.741706Z",
     "start_time": "2019-04-17T19:33:52.725395Z"
    }
   },
   "outputs": [
    {
     "name": "stdout",
     "output_type": "stream",
     "text": [
      "Elapsed time:  0.0006430149078369141\n"
     ]
    }
   ],
   "source": [
    "#Professer's code\n",
    "start = time.time()\n",
    "#scan column by column\n",
    "s = 0;\n",
    "for i in range(matrix.shape[1]): \n",
    "    s+=sum(matrix[:,i])\n",
    "end = time.time()\n",
    "print(\"Elapsed time: \", end-start)"
   ]
  },
  {
   "cell_type": "code",
   "execution_count": 123,
   "metadata": {
    "ExecuteTime": {
     "end_time": "2019-04-17T19:33:54.055637Z",
     "start_time": "2019-04-17T19:33:54.038534Z"
    }
   },
   "outputs": [
    {
     "name": "stdout",
     "output_type": "stream",
     "text": [
      "Elapsed time:  0.0005648136138916016\n"
     ]
    }
   ],
   "source": [
    "start = time.time()\n",
    "#scan row by row\n",
    "s = 0;\n",
    "for j in range(matrix.shape[0]): \n",
    "    s+=sum(matrix[j,:])\n",
    "end = time.time()\n",
    "print(\"Elapsed time: \", end-start)"
   ]
  },
  {
   "cell_type": "markdown",
   "metadata": {},
   "source": [
    "<p style=\"Background-color:orange;\">Adding the elements row by row is less time-consuming</p>"
   ]
  },
  {
   "cell_type": "code",
   "execution_count": 133,
   "metadata": {
    "ExecuteTime": {
     "end_time": "2019-04-17T19:36:51.191271Z",
     "start_time": "2019-04-17T19:36:51.179139Z"
    },
    "code_folding": []
   },
   "outputs": [
    {
     "name": "stdout",
     "output_type": "stream",
     "text": [
      "CPU times: user 0 ns, sys: 0 ns, total: 0 ns\n",
      "Wall time: 18.8 µs\n"
     ]
    }
   ],
   "source": [
    "#Professer's code\n",
    "%time\n",
    "s = 0;\n",
    "for i in range(matrix.shape[1]): s+=sum(matrix[:,i])"
   ]
  },
  {
   "cell_type": "code",
   "execution_count": 132,
   "metadata": {
    "ExecuteTime": {
     "end_time": "2019-04-17T19:36:49.709987Z",
     "start_time": "2019-04-17T19:36:49.697730Z"
    },
    "code_folding": []
   },
   "outputs": [
    {
     "name": "stdout",
     "output_type": "stream",
     "text": [
      "CPU times: user 0 ns, sys: 0 ns, total: 0 ns\n",
      "Wall time: 8.58 µs\n"
     ]
    }
   ],
   "source": [
    "#Professer's code\n",
    "%time\n",
    "s = 0;\n",
    "for i in range(matrix.shape[0]): s+=sum(matrix[i,:])"
   ]
  },
  {
   "cell_type": "markdown",
   "metadata": {},
   "source": [
    "<p style=\"background-color:pink;\">Comparing the time of an array row by row vs column by column</p>\n",
    "<p style=\"background-color:tomato;\">For matrixes for 10^ all the elements in T (T is a list)</p>\n",
    "<p style=\"background-color:tomato;\">K demonstrates the number of reputations of each experiment</p>"
   ]
  },
  {
   "cell_type": "code",
   "execution_count": 138,
   "metadata": {
    "ExecuteTime": {
     "end_time": "2019-04-17T21:57:00.630604Z",
     "start_time": "2019-04-17T21:57:00.618051Z"
    }
   },
   "outputs": [
    {
     "data": {
      "text/plain": [
       "array([[1., 1., 1.],\n",
       "       [1., 1., 1.],\n",
       "       [1., 1., 1.]])"
      ]
     },
     "execution_count": 138,
     "metadata": {},
     "output_type": "execute_result"
    }
   ],
   "source": [
    "#Creating a square matrix of ones\n",
    "np.ones([3,3])"
   ]
  },
  {
   "cell_type": "code",
   "execution_count": 203,
   "metadata": {
    "ExecuteTime": {
     "end_time": "2019-04-17T22:32:09.605712Z",
     "start_time": "2019-04-17T22:32:09.545516Z"
    },
    "code_folding": []
   },
   "outputs": [],
   "source": [
    "def sample_Run_times(T):\n",
    "    \"\"\"Compare the time to sum an array in two approaches,\n",
    "    either row by row or column by column\"\"\"\n",
    "    # T is a list, for creating matrix, we obtain each element of T,  /\n",
    "    # exponentiate 10 by it, and make a matrix of that size (number of rows=columns) \n",
    "    matsize_timeration ={}\n",
    "    for element in T:\n",
    "        size = int(element*element)\n",
    "        a = np.ones([size,size]) #Creating a square matrix of ones\n",
    "                                  #Repeating the experiment k times\n",
    "                                  #for i in range(K):\n",
    "        #row_by_row\n",
    "        start = time.time()\n",
    "        s = 0\n",
    "        for i in range(size):\n",
    "            s+= sum(a[i,:])\n",
    "        end = time.time()\n",
    "        rbyr = end\n",
    "        #column_by_column\n",
    "        start = time.time()\n",
    "        s = 0\n",
    "        for j in range(size):\n",
    "            s+= sum(a[:,j])\n",
    "        end = time.time()\n",
    "        cbyc = end\n",
    "        matsize_timeration[size] = (rbyr/cbyc)\n",
    "    return matsize_timeration"
   ]
  },
  {
   "cell_type": "code",
   "execution_count": 207,
   "metadata": {
    "ExecuteTime": {
     "end_time": "2019-04-17T22:56:19.966298Z",
     "start_time": "2019-04-17T22:44:46.733864Z"
    }
   },
   "outputs": [],
   "source": [
    "T = list(range(1,100))\n",
    "x = sample_Run_times(T)"
   ]
  },
  {
   "cell_type": "code",
   "execution_count": null,
   "metadata": {
    "ExecuteTime": {
     "end_time": "2019-04-17T22:58:35.398591Z",
     "start_time": "2019-04-17T22:58:35.094295Z"
    }
   },
   "outputs": [],
   "source": []
  },
  {
   "cell_type": "markdown",
   "metadata": {},
   "source": [
    "<p style=\"background-color:Red;\">Plotting the results!!!!!!!!</p>"
   ]
  },
  {
   "cell_type": "code",
   "execution_count": 209,
   "metadata": {
    "ExecuteTime": {
     "end_time": "2019-04-17T22:57:00.675201Z",
     "start_time": "2019-04-17T22:56:59.494898Z"
    }
   },
   "outputs": [
    {
     "data": {
      "image/png": "[encoded data removed]",
      "text/plain": [
       "<Figure size 432x288 with 1 Axes>"
      ]
     },
     "metadata": {},
     "output_type": "display_data"
    }
   ],
   "source": [
    "import matplotlib.pyplot as plt\n",
    "plt.scatter(x.keys(), x.values())\n",
    "plt.xlabel(\"Matrix Size\")\n",
    "plt.ylabel(\"Ratio of Row-by-Row and col-by-col\")\n",
    "plt.show()"
   ]
  },
  {
   "cell_type": "code",
   "execution_count": 136,
   "metadata": {
    "ExecuteTime": {
     "end_time": "2019-04-17T21:56:30.965043Z",
     "start_time": "2019-04-17T21:56:30.906381Z"
    }
   },
   "outputs": [
    {
     "data": {
      "text/plain": [
       "array([[1., 1., 1., 1., 1.],\n",
       "       [1., 1., 1., 1., 1.],\n",
       "       [1., 1., 1., 1., 1.],\n",
       "       [1., 1., 1., 1., 1.],\n",
       "       [1., 1., 1., 1., 1.]])"
      ]
     },
     "execution_count": 136,
     "metadata": {},
     "output_type": "execute_result"
    }
   ],
   "source": [
    "#np.ones([5,5])"
   ]
  },
  {
   "cell_type": "markdown",
   "metadata": {},
   "source": [
    "<p style=\"background-color:tomato;\">Memory Latency</p>"
   ]
  },
  {
   "cell_type": "markdown",
   "metadata": {},
   "source": [
    "<p style=\"background-color:yellow;\">Memory latency is the time difference between the time at which the CPU is issuing a read or write command and, the time the command is complete.</p>"
   ]
  },
  {
   "cell_type": "markdown",
   "metadata": {
    "ExecuteTime": {
     "end_time": "2019-04-17T23:56:32.691772Z",
     "start_time": "2019-04-17T23:56:32.678757Z"
    }
   },
   "source": [
    "<p style=\"background-color:gray;\">if the probability of getting extreme values is much higher than what a normal distribution would give long tail distribution</p>"
   ]
  },
  {
   "cell_type": "code",
   "execution_count": 214,
   "metadata": {
    "ExecuteTime": {
     "end_time": "2019-04-17T23:38:18.529536Z",
     "start_time": "2019-04-17T23:38:18.289204Z"
    }
   },
   "outputs": [
    {
     "data": {
      "image/png": "[encoded data removed]",
      "text/plain": [
       "<Figure size 432x288 with 1 Axes>"
      ]
     },
     "metadata": {},
     "output_type": "display_data"
    }
   ],
   "source": [
    "import numpy as np\n",
    "from pylab import *\n",
    "\n",
    "# Create some test data\n",
    "dx = 0.01\n",
    "X  = np.arange(-1.5, 1.5, dx)\n",
    "Y  = exp(-X ** 2)\n",
    "\n",
    "# Normalize the data to a proper PDF\n",
    "Y /= (dx * Y).sum()\n",
    "\n",
    "# Compute the CDF\n",
    "CY = np.cumsum(Y * dx)\n",
    "\n",
    "# Plot both\n",
    "plot(X, Y)\n",
    "\n",
    "show()"
   ]
  },
  {
   "cell_type": "markdown",
   "metadata": {},
   "source": [
    "<p style=\"background-color:yellow;\">RDD: Resilient distribution dataset: Approach of distributing the data</p>\n",
    "<p style=\"color:gray;\">There is a Trade-off between the size and the speed. CPU has the smallest size, yet is the fastest. Disk has the largest size yet is the slowest</p>"
   ]
  },
  {
   "cell_type": "markdown",
   "metadata": {
    "ExecuteTime": {
     "end_time": "2019-04-18T00:13:29.767204Z",
     "start_time": "2019-04-18T00:13:29.756112Z"
    }
   },
   "source": [
    "<p style=\"background-color:tomato;\">Clusters</p>\n",
    "<p style=\"color:gray;\">Clusters are the computers that share memory</p>\n",
    "<p style=\"color:gray;\">Locality in the clusters means, the required data for a CPU resides in the same computer the CPU resides</p>\n",
    "<p style=\"color:gray;\">Catching turns into shuffling</p>"
   ]
  },
  {
   "cell_type": "code",
   "execution_count": 218,
   "metadata": {
    "ExecuteTime": {
     "end_time": "2019-04-18T01:06:46.257306Z",
     "start_time": "2019-04-18T01:06:46.244426Z"
    }
   },
   "outputs": [
    {
     "data": {
      "text/plain": [
       "[0, 1, 4, 9, 16, 25, 36, 49, 64, 81]"
      ]
     },
     "execution_count": 218,
     "metadata": {},
     "output_type": "execute_result"
    }
   ],
   "source": [
    "[i*i for i in range(0,10)]"
   ]
  },
  {
   "cell_type": "markdown",
   "metadata": {},
   "source": [
    "<p style=\"background-color:tomato;\">Map reduce</p>"
   ]
  },
  {
   "cell_type": "code",
   "execution_count": 222,
   "metadata": {
    "ExecuteTime": {
     "end_time": "2019-04-18T01:08:47.179070Z",
     "start_time": "2019-04-18T01:08:47.171997Z"
    }
   },
   "outputs": [],
   "source": [
    "L = [1,2,3,4,5]\n",
    "l =map(lambda x:x*x, L) #We don't declare the order"
   ]
  },
  {
   "cell_type": "code",
   "execution_count": 224,
   "metadata": {
    "ExecuteTime": {
     "end_time": "2019-04-18T01:10:02.133357Z",
     "start_time": "2019-04-18T01:10:02.118587Z"
    }
   },
   "outputs": [
    {
     "data": {
      "text/plain": [
       "15"
      ]
     },
     "execution_count": 224,
     "metadata": {},
     "output_type": "execute_result"
    }
   ],
   "source": [
    "sum(L)"
   ]
  },
  {
   "cell_type": "markdown",
   "metadata": {},
   "source": [
    "<p style=\"background-color:tomato;\">Map reduce</p>"
   ]
  },
  {
   "cell_type": "code",
   "execution_count": 227,
   "metadata": {
    "ExecuteTime": {
     "end_time": "2019-04-18T01:10:51.357612Z",
     "start_time": "2019-04-18T01:10:51.345502Z"
    }
   },
   "outputs": [
    {
     "ename": "SyntaxError",
     "evalue": "invalid syntax (<ipython-input-227-925179570bba>, line 1)",
     "output_type": "error",
     "traceback": [
      "\u001b[0;36m  File \u001b[0;32m\"<ipython-input-227-925179570bba>\"\u001b[0;36m, line \u001b[0;32m1\u001b[0m\n\u001b[0;31m    reduce(lambda (x,y): x+y, L)\u001b[0m\n\u001b[0m                  ^\u001b[0m\n\u001b[0;31mSyntaxError\u001b[0m\u001b[0;31m:\u001b[0m invalid syntax\n"
     ]
    }
   ],
   "source": [
    "reduce(lambda (x,y): x+y, L)"
   ]
  },
  {
   "cell_type": "code",
   "execution_count": null,
   "metadata": {},
   "outputs": [],
   "source": []
  },
  {
   "cell_type": "code",
   "execution_count": null,
   "metadata": {},
   "outputs": [],
   "source": []
  },
  {
   "cell_type": "code",
   "execution_count": null,
   "metadata": {},
   "outputs": [],
   "source": []
  }
 ],
 "metadata": {
  "kernelspec": {
   "display_name": "Python 3",
   "language": "python",
   "name": "python3"
  },
  "language_info": {
   "codemirror_mode": {
    "name": "ipython",
    "version": 3
   },
   "file_extension": ".py",
   "mimetype": "text/x-python",
   "name": "python",
   "nbconvert_exporter": "python",
   "pygments_lexer": "ipython3",
   "version": "3.6.5"
  },
  "toc": {
   "base_numbering": 1,
   "nav_menu": {},
   "number_sections": true,
   "sideBar": true,
   "skip_h1_title": false,
   "title_cell": "Table of Contents",
   "title_sidebar": "Contents",
   "toc_cell": false,
   "toc_position": {},
   "toc_section_display": true,
   "toc_window_display": false
  },
  "varInspector": {
   "cols": {
    "lenName": 16,
    "lenType": 16,
    "lenVar": 40
   },
   "kernels_config": {
    "python": {
     "delete_cmd_postfix": "",
     "delete_cmd_prefix": "del ",
     "library": "var_list.py",
     "varRefreshCmd": "print(var_dic_list())"
    },
    "r": {
     "delete_cmd_postfix": ") ",
     "delete_cmd_prefix": "rm(",
     "library": "var_list.r",
     "varRefreshCmd": "cat(var_dic_list()) "
    }
   },
   "types_to_exclude": [
    "module",
    "function",
    "builtin_function_or_method",
    "instance",
    "_Feature"
   ],
   "window_display": false
  }
 },
 "nbformat": 4,
 "nbformat_minor": 2
}

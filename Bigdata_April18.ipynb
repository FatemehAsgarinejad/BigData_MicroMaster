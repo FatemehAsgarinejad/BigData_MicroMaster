{
 "cells": [
  {
   "cell_type": "code",
   "execution_count": 1,
   "metadata": {
    "ExecuteTime": {
     "end_time": "2019-04-18T18:33:30.738787Z",
     "start_time": "2019-04-18T18:33:30.733404Z"
    }
   },
   "outputs": [],
   "source": [
    "import numpy as np"
   ]
  },
  {
   "cell_type": "markdown",
   "metadata": {
    "ExecuteTime": {
     "end_time": "2019-04-18T18:34:22.261209Z",
     "start_time": "2019-04-18T18:34:22.252686Z"
    }
   },
   "source": [
    "<p style=\"background-color:tomato;\">Plotting a gaussian (Normal) distribution pdf</p>"
   ]
  },
  {
   "cell_type": "code",
   "execution_count": 64,
   "metadata": {
    "ExecuteTime": {
     "end_time": "2019-04-18T18:56:58.967176Z",
     "start_time": "2019-04-18T18:56:58.768477Z"
    }
   },
   "outputs": [
    {
     "data": {
      "image/png": "[encoded data removed]",
      "text/plain": [
       "<Figure size 432x288 with 1 Axes>"
      ]
     },
     "metadata": {},
     "output_type": "display_data"
    }
   ],
   "source": [
    "import matplotlib.pyplot as plt\n",
    "# Create some test data\n",
    "dx = 0.01\n",
    "X  = np.arange(-1.5, 1.5, dx)\n",
    "Y  = exp(-X**2)\n",
    "plt.plot(X, Y)\n",
    "show()"
   ]
  },
  {
   "cell_type": "markdown",
   "metadata": {
    "ExecuteTime": {
     "end_time": "2019-04-18T19:00:55.438108Z",
     "start_time": "2019-04-18T19:00:55.426221Z"
    }
   },
   "source": [
    "<p style=\"background-color:tomato;\">Long Tale</p>\n",
    "<p style=\"background-color:orange;\">The probability of getting large values are much higher than getting small ones</p>\n",
    "<p style=\"color:orange;\">L3 cache determines how much data we can put once in a cache and is a significant factor in buying laptops.</p>"
   ]
  },
  {
   "cell_type": "code",
   "execution_count": 66,
   "metadata": {
    "ExecuteTime": {
     "end_time": "2019-04-18T19:14:09.466883Z",
     "start_time": "2019-04-18T19:14:09.456416Z"
    }
   },
   "outputs": [
    {
     "data": {
      "text/plain": [
       "[0, 1, 4, 9, 16, 25, 36, 49, 64, 81]"
      ]
     },
     "execution_count": 66,
     "metadata": {},
     "output_type": "execute_result"
    }
   ],
   "source": [
    "#traditional \n",
    "#We declare the order for apply the function\n",
    "[i*i for i in range(0,10)]"
   ]
  },
  {
   "cell_type": "markdown",
   "metadata": {},
   "source": [
    "<p style=\"background-color:tomato;\">Map reduce</p>"
   ]
  },
  {
   "cell_type": "code",
   "execution_count": 81,
   "metadata": {
    "ExecuteTime": {
     "end_time": "2019-04-18T19:18:07.130016Z",
     "start_time": "2019-04-18T19:18:07.109954Z"
    }
   },
   "outputs": [
    {
     "data": {
      "text/plain": [
       "[0, 1, 4, 9, 16, 25, 36, 49, 64, 81, 100]"
      ]
     },
     "execution_count": 81,
     "metadata": {},
     "output_type": "execute_result"
    }
   ],
   "source": [
    "#We don't declare the order for applying the function\n",
    "L = np.arange(0,11)\n",
    "L2 = list(map(lambda x:x*x, L))\n",
    "L2"
   ]
  },
  {
   "cell_type": "code",
   "execution_count": 83,
   "metadata": {
    "ExecuteTime": {
     "end_time": "2019-04-18T19:19:44.099227Z",
     "start_time": "2019-04-18T19:19:44.085991Z"
    }
   },
   "outputs": [
    {
     "name": "stdout",
     "output_type": "stream",
     "text": [
      "55\n"
     ]
    }
   ],
   "source": [
    "#traditional way of summation\n",
    "#compute everything from the beginning to the last\n",
    "sum(L)\n",
    "s = 0\n",
    "for i in L:\n",
    "    s+=i\n",
    "print(s)"
   ]
  },
  {
   "cell_type": "code",
   "execution_count": 108,
   "metadata": {
    "ExecuteTime": {
     "end_time": "2019-04-18T20:29:41.267735Z",
     "start_time": "2019-04-18T20:29:41.255843Z"
    }
   },
   "outputs": [
    {
     "data": {
      "text/plain": [
       "55"
      ]
     },
     "execution_count": 108,
     "metadata": {},
     "output_type": "execute_result"
    }
   ],
   "source": [
    "#Map reduce approach of summation\n",
    "import functools\n",
    "functools.reduce(lambda a,b : a+b,L)"
   ]
  },
  {
   "cell_type": "markdown",
   "metadata": {},
   "source": [
    "<p style=\"background-color:tomato;\">Map reduce</p>"
   ]
  },
  {
   "cell_type": "code",
   "execution_count": 93,
   "metadata": {
    "ExecuteTime": {
     "end_time": "2019-04-18T20:25:19.455560Z",
     "start_time": "2019-04-18T20:25:19.446567Z"
    }
   },
   "outputs": [
    {
     "data": {
      "text/plain": [
       "7"
      ]
     },
     "execution_count": 93,
     "metadata": {},
     "output_type": "execute_result"
    }
   ],
   "source": [
    "summation = lambda x,y: x+y\n",
    "summation(3,4)"
   ]
  },
  {
   "cell_type": "markdown",
   "metadata": {
    "ExecuteTime": {
     "end_time": "2019-04-18T20:30:14.128210Z",
     "start_time": "2019-04-18T20:30:14.114687Z"
    }
   },
   "source": [
    "<p style=\"color:tomato;\">Map + reduce</p>"
   ]
  },
  {
   "cell_type": "code",
   "execution_count": 113,
   "metadata": {
    "ExecuteTime": {
     "end_time": "2019-04-18T20:32:11.518496Z",
     "start_time": "2019-04-18T20:32:11.502945Z"
    }
   },
   "outputs": [
    {
     "data": {
      "text/plain": [
       "385"
      ]
     },
     "execution_count": 113,
     "metadata": {},
     "output_type": "execute_result"
    }
   ],
   "source": [
    "functools.reduce(lambda x,y:x+y, L2) #Is equal to\n",
    "functools.reduce(lambda x,y:x+y, map(lambda i:i*i, L))"
   ]
  },
  {
   "cell_type": "code",
   "execution_count": 125,
   "metadata": {
    "ExecuteTime": {
     "end_time": "2019-04-18T20:34:49.882109Z",
     "start_time": "2019-04-18T20:34:49.868814Z"
    }
   },
   "outputs": [
    {
     "data": {
      "text/plain": [
       "385"
      ]
     },
     "execution_count": 125,
     "metadata": {},
     "output_type": "execute_result"
    }
   ],
   "source": [
    "functools.reduce(lambda x,y:x+y**2,L)"
   ]
  },
  {
   "cell_type": "code",
   "execution_count": 2,
   "metadata": {
    "ExecuteTime": {
     "end_time": "2019-04-18T20:40:15.895108Z",
     "start_time": "2019-04-18T20:40:15.846709Z"
    }
   },
   "outputs": [
    {
     "name": "stdout",
     "output_type": "stream",
     "text": [
      "CPU times: user 0 ns, sys: 0 ns, total: 0 ns\n",
      "Wall time: 14.3 µs\n"
     ]
    }
   ],
   "source": [
    "%time\n",
    "s = 0\n",
    "L = np.arange(1,100000)\n",
    "for i in L:\n",
    "    s+= i"
   ]
  },
  {
   "cell_type": "code",
   "execution_count": 6,
   "metadata": {
    "ExecuteTime": {
     "end_time": "2019-04-18T20:40:44.400474Z",
     "start_time": "2019-04-18T20:40:44.331087Z"
    }
   },
   "outputs": [
    {
     "name": "stdout",
     "output_type": "stream",
     "text": [
      "CPU times: user 0 ns, sys: 0 ns, total: 0 ns\n",
      "Wall time: 8.34 µs\n"
     ]
    },
    {
     "data": {
      "text/plain": [
       "4999950000"
      ]
     },
     "execution_count": 6,
     "metadata": {},
     "output_type": "execute_result"
    }
   ],
   "source": [
    "%time\n",
    "s = 0\n",
    "import functools\n",
    "L = np.arange(1,100000)\n",
    "functools.reduce(lambda x,y:x+y, L)"
   ]
  },
  {
   "cell_type": "code",
   "execution_count": 3,
   "metadata": {
    "ExecuteTime": {
     "end_time": "2019-04-18T20:45:50.877718Z",
     "start_time": "2019-04-18T20:45:50.866078Z"
    }
   },
   "outputs": [],
   "source": [
    "def tradition(L):\n",
    "    s = 0\n",
    "    for i in L:\n",
    "        s+= i\n",
    "    return s\n",
    "def mpr(L):\n",
    "    return functools.reduce(lambda x,y:x+y, L)"
   ]
  },
  {
   "cell_type": "code",
   "execution_count": null,
   "metadata": {
    "ExecuteTime": {
     "start_time": "2019-04-18T20:51:08.604Z"
    }
   },
   "outputs": [],
   "source": [
    "import functools\n",
    "L = np.arange(0, 10**8)\n",
    "traditional = []\n",
    "mapreduce = []\n",
    "for i in range(1000):\n",
    "    traditional.append(tradition(L))\n",
    "    mapreduce.append(mpr(L))"
   ]
  },
  {
   "cell_type": "code",
   "execution_count": null,
   "metadata": {
    "ExecuteTime": {
     "start_time": "2019-04-18T20:57:03.246Z"
    }
   },
   "outputs": [],
   "source": [
    "print(np.mean(traditional))\n",
    "print(np.mean(mapreduce))"
   ]
  },
  {
   "cell_type": "code",
   "execution_count": 14,
   "metadata": {
    "ExecuteTime": {
     "end_time": "2019-04-18T21:00:01.957113Z",
     "start_time": "2019-04-18T21:00:01.942995Z"
    }
   },
   "outputs": [
    {
     "data": {
      "text/plain": [
       "[1, 4, 9, 16, 25, 36, 49, 64, 81]"
      ]
     },
     "execution_count": 14,
     "metadata": {},
     "output_type": "execute_result"
    }
   ],
   "source": [
    "L = np.arange(1,10)\n",
    "list(map(lambda x:x**2, L))"
   ]
  },
  {
   "cell_type": "code",
   "execution_count": null,
   "metadata": {
    "ExecuteTime": {
     "end_time": "2019-04-18T23:34:41.132439Z",
     "start_time": "2019-04-18T23:34:41.073762Z"
    }
   },
   "outputs": [],
   "source": [
    "from pyspark import SparkContext\n",
    "sc = SparkContext()"
   ]
  },
  {
   "cell_type": "code",
   "execution_count": 38,
   "metadata": {
    "ExecuteTime": {
     "end_time": "2019-04-18T23:39:03.840420Z",
     "start_time": "2019-04-18T23:39:03.822264Z"
    }
   },
   "outputs": [],
   "source": [
    "#Initialize an RDD\n",
    "RDD = sc.parallelize([0,1,2])\n",
    "#sum the squares of the items\n",
    "#RDD.map(lambda x:x*x, functools.reduce(lambda x,y:x+y, L))"
   ]
  },
  {
   "cell_type": "markdown",
   "metadata": {},
   "source": [
    "<p style=\"background-color:tomato;\">RDD to RDD</p>"
   ]
  },
  {
   "cell_type": "code",
   "execution_count": 42,
   "metadata": {
    "ExecuteTime": {
     "end_time": "2019-04-18T23:41:05.309916Z",
     "start_time": "2019-04-18T23:41:05.125415Z"
    }
   },
   "outputs": [
    {
     "data": {
      "text/plain": [
       "[0, 1, 4]"
      ]
     },
     "execution_count": 42,
     "metadata": {},
     "output_type": "execute_result"
    }
   ],
   "source": [
    "RDD = sc.parallelize([0,1,2])\n",
    "A = RDD.map(lambda x:x*x)\n",
    "A.collect() #collects all the elements of the RDD into a master"
   ]
  },
  {
   "cell_type": "code",
   "execution_count": 52,
   "metadata": {
    "ExecuteTime": {
     "end_time": "2019-04-18T23:46:56.448137Z",
     "start_time": "2019-04-18T23:46:56.211387Z"
    }
   },
   "outputs": [
    {
     "name": "stdout",
     "output_type": "stream",
     "text": [
      "first element =  0\n",
      "first 5 elements =  [0, 1, 2, 3, 4]\n",
      "random 5 chosen elements = \n"
     ]
    },
    {
     "data": {
      "text/plain": [
       "[1657, 5629, 6965, 8644, 9864, 9953]"
      ]
     },
     "execution_count": 52,
     "metadata": {},
     "output_type": "execute_result"
    }
   ],
   "source": [
    "n = 10000\n",
    "B = sc.parallelize(range(n))\n",
    "#get the first elements of an RDD\n",
    "print(\"first element = \", B.first())\n",
    "print(\"first 5 elements = \", B.take(5))\n",
    "print(\"random 5 chosen elements = \")\n",
    "m = 5.0\n",
    "C = B.sample(False,m/n)\n",
    "C.collect()"
   ]
  },
  {
   "cell_type": "markdown",
   "metadata": {},
   "source": [
    "<p style=\"background-color:tomato;\">Map and sample on an RDD also return RDD</p>"
   ]
  },
  {
   "cell_type": "code",
   "execution_count": 56,
   "metadata": {
    "ExecuteTime": {
     "end_time": "2019-04-19T00:23:40.656094Z",
     "start_time": "2019-04-19T00:23:40.624969Z"
    }
   },
   "outputs": [],
   "source": [
    "A = sc.parallelize(range(4)) #RDD for 4 items\n",
    "Lines = sc.parallelize([\"Happy\", \"volition\", \"dojourn\"]) #each element is a line or a string"
   ]
  },
  {
   "cell_type": "markdown",
   "metadata": {
    "ExecuteTime": {
     "end_time": "2019-04-19T00:26:12.972805Z",
     "start_time": "2019-04-19T00:26:12.947152Z"
    }
   },
   "source": [
    "<p style=\"background-color:tomato;\">Creation: making RDDs from files, databases or data on driver node</p>\n",
    "<p style=\"background-color:tomato;\">Transformation: RDD to RDD</p>\n",
    "<p style=\"background-color:tomato;\">Action: RDD to data on driver node, files, databases, etc.</p>"
   ]
  },
  {
   "cell_type": "code",
   "execution_count": 60,
   "metadata": {
    "ExecuteTime": {
     "end_time": "2019-04-19T00:28:10.767051Z",
     "start_time": "2019-04-19T00:28:10.635611Z"
    }
   },
   "outputs": [],
   "source": [
    "A =sc.parallelize(range(4)).count()"
   ]
  },
  {
   "cell_type": "code",
   "execution_count": 62,
   "metadata": {
    "ExecuteTime": {
     "end_time": "2019-04-19T00:32:22.215258Z",
     "start_time": "2019-04-19T00:32:22.200397Z"
    }
   },
   "outputs": [],
   "source": [
    "#A.reduce(lambda x,y:x+y)"
   ]
  },
  {
   "cell_type": "code",
   "execution_count": 72,
   "metadata": {
    "ExecuteTime": {
     "end_time": "2019-04-19T00:55:09.204286Z",
     "start_time": "2019-04-19T00:55:09.195475Z"
    }
   },
   "outputs": [],
   "source": [
    "#database = sc.parallelize(\n",
    "    #('55632',{'name':'yoav','city':'J'}),\n",
    "    #('3342',{'name':'homer','town':'F'}))"
   ]
  },
  {
   "cell_type": "code",
   "execution_count": 71,
   "metadata": {
    "ExecuteTime": {
     "end_time": "2019-04-19T00:55:01.792314Z",
     "start_time": "2019-04-19T00:55:01.783589Z"
    }
   },
   "outputs": [],
   "source": [
    "#car_count = sc.parallelize(\n",
    "#('h',3),\n",
    "#('a',4))"
   ]
  },
  {
   "cell_type": "markdown",
   "metadata": {},
   "source": [
    "<p style=\"background-color:tomato;\">Spark context</p>\n",
    "<p style=\"background-color:tomato;\">Spark context is the deligate to Spark</p>"
   ]
  },
  {
   "cell_type": "code",
   "execution_count": 75,
   "metadata": {
    "ExecuteTime": {
     "end_time": "2019-04-19T00:57:48.576921Z",
     "start_time": "2019-04-19T00:57:48.564219Z"
    }
   },
   "outputs": [],
   "source": [
    "#start the sparkcontext\n",
    "import findspark\n",
    "findspark.init()"
   ]
  },
  {
   "cell_type": "code",
   "execution_count": 77,
   "metadata": {
    "ExecuteTime": {
     "end_time": "2019-04-19T00:57:55.789575Z",
     "start_time": "2019-04-19T00:57:55.783081Z"
    }
   },
   "outputs": [],
   "source": [
    "from pyspark import SparkContext"
   ]
  },
  {
   "cell_type": "code",
   "execution_count": 85,
   "metadata": {
    "ExecuteTime": {
     "end_time": "2019-04-19T01:03:30.141320Z",
     "start_time": "2019-04-19T01:03:29.246630Z"
    }
   },
   "outputs": [],
   "source": [
    "sc.stop()"
   ]
  },
  {
   "cell_type": "code",
   "execution_count": 86,
   "metadata": {
    "ExecuteTime": {
     "end_time": "2019-04-19T01:03:58.237042Z",
     "start_time": "2019-04-19T01:03:58.008425Z"
    }
   },
   "outputs": [],
   "source": [
    "sc = SparkContext(master=\"local[4]\")"
   ]
  },
  {
   "cell_type": "code",
   "execution_count": 87,
   "metadata": {
    "ExecuteTime": {
     "end_time": "2019-04-19T01:04:02.087193Z",
     "start_time": "2019-04-19T01:04:02.078355Z"
    }
   },
   "outputs": [
    {
     "name": "stdout",
     "output_type": "stream",
     "text": [
      "<SparkContext master=local[4] appName=pyspark-shell>\n"
     ]
    }
   ],
   "source": [
    "print(sc)"
   ]
  },
  {
   "cell_type": "code",
   "execution_count": 88,
   "metadata": {
    "ExecuteTime": {
     "end_time": "2019-04-19T01:15:48.150364Z",
     "start_time": "2019-04-19T01:15:48.064213Z"
    }
   },
   "outputs": [],
   "source": [
    "sc.stop()"
   ]
  },
  {
   "cell_type": "code",
   "execution_count": 89,
   "metadata": {
    "ExecuteTime": {
     "end_time": "2019-04-19T01:16:39.473492Z",
     "start_time": "2019-04-19T01:16:39.464708Z"
    }
   },
   "outputs": [],
   "source": [
    "import findspark\n",
    "findspark.init()"
   ]
  },
  {
   "cell_type": "code",
   "execution_count": 94,
   "metadata": {
    "ExecuteTime": {
     "end_time": "2019-04-19T01:18:09.973949Z",
     "start_time": "2019-04-19T01:18:09.775594Z"
    }
   },
   "outputs": [
    {
     "name": "stdout",
     "output_type": "stream",
     "text": [
      "<SparkContext master=local[4] appName=pyspark-shell>\n"
     ]
    }
   ],
   "source": [
    "from pyspark import SparkContext\n",
    "sc = SparkContext(master=\"local[4]\") #run spark locally using 4 workers(cores)\n",
    "print(sc)"
   ]
  },
  {
   "cell_type": "markdown",
   "metadata": {
    "ExecuteTime": {
     "end_time": "2019-04-19T01:21:08.153997Z",
     "start_time": "2019-04-19T01:21:08.141378Z"
    }
   },
   "source": [
    "<p style=\"background-color:gold;\">RDDs are the main novel data structure in Spark like a list whose elements are stored in several computers</p>"
   ]
  },
  {
   "cell_type": "code",
   "execution_count": 97,
   "metadata": {
    "ExecuteTime": {
     "end_time": "2019-04-19T01:22:48.288756Z",
     "start_time": "2019-04-19T01:22:48.266056Z"
    }
   },
   "outputs": [],
   "source": [
    "A = sc.parallelize(range(3))"
   ]
  },
  {
   "cell_type": "code",
   "execution_count": 99,
   "metadata": {
    "ExecuteTime": {
     "end_time": "2019-04-19T01:23:48.934268Z",
     "start_time": "2019-04-19T01:23:48.926240Z"
    }
   },
   "outputs": [],
   "source": [
    "#gerring visibility by use of command collect \n",
    "#collect is the inverse of parallelize, collecting the elements of the RDD"
   ]
  },
  {
   "cell_type": "code",
   "execution_count": 101,
   "metadata": {
    "ExecuteTime": {
     "end_time": "2019-04-19T01:24:28.532743Z",
     "start_time": "2019-04-19T01:24:28.403991Z"
    }
   },
   "outputs": [
    {
     "name": "stdout",
     "output_type": "stream",
     "text": [
      "<class 'list'>\n",
      "[0, 1, 2]\n"
     ]
    }
   ],
   "source": [
    "L = A.collect()\n",
    "print(type(L))\n",
    "print(L)"
   ]
  },
  {
   "cell_type": "markdown",
   "metadata": {
    "ExecuteTime": {
     "end_time": "2019-04-19T01:28:17.000417Z",
     "start_time": "2019-04-19T01:28:16.981591Z"
    }
   },
   "source": [
    "<p style=\"background-color:gold;\">Map for applying a function to each element of RDD, then returns a new RDD</p>"
   ]
  },
  {
   "cell_type": "code",
   "execution_count": 105,
   "metadata": {
    "ExecuteTime": {
     "end_time": "2019-04-19T01:28:53.712374Z",
     "start_time": "2019-04-19T01:28:53.559149Z"
    }
   },
   "outputs": [
    {
     "data": {
      "text/plain": [
       "[0, 1, 2]"
      ]
     },
     "execution_count": 105,
     "metadata": {},
     "output_type": "execute_result"
    }
   ],
   "source": [
    "A # is the RDD\n",
    "A.collect() #ousts the RDD"
   ]
  },
  {
   "cell_type": "code",
   "execution_count": 106,
   "metadata": {
    "ExecuteTime": {
     "end_time": "2019-04-19T01:29:50.011201Z",
     "start_time": "2019-04-19T01:29:49.842463Z"
    }
   },
   "outputs": [
    {
     "data": {
      "text/plain": [
       "[0, 1, 4]"
      ]
     },
     "execution_count": 106,
     "metadata": {},
     "output_type": "execute_result"
    }
   ],
   "source": [
    "A.map(lambda x:x*x).collect()"
   ]
  },
  {
   "cell_type": "markdown",
   "metadata": {},
   "source": [
    "<p style=\"background-color:gold;\">Reduce takes an RDD as input and returns a single value</p>"
   ]
  },
  {
   "cell_type": "code",
   "execution_count": 110,
   "metadata": {
    "ExecuteTime": {
     "end_time": "2019-04-19T01:36:15.440663Z",
     "start_time": "2019-04-19T01:36:15.413259Z"
    }
   },
   "outputs": [],
   "source": [
    "Rdd = sc.parallelize(range(1,100,5))"
   ]
  },
  {
   "cell_type": "code",
   "execution_count": 111,
   "metadata": {
    "ExecuteTime": {
     "end_time": "2019-04-19T01:36:16.732782Z",
     "start_time": "2019-04-19T01:36:16.595353Z"
    }
   },
   "outputs": [
    {
     "data": {
      "text/plain": [
       "[1, 6, 11, 16, 21, 26, 31, 36, 41, 46, 51, 56, 61, 66, 71, 76, 81, 86, 91, 96]"
      ]
     },
     "execution_count": 111,
     "metadata": {},
     "output_type": "execute_result"
    }
   ],
   "source": [
    "Rdd.collect()"
   ]
  },
  {
   "cell_type": "code",
   "execution_count": 115,
   "metadata": {
    "ExecuteTime": {
     "end_time": "2019-04-19T01:38:16.550536Z",
     "start_time": "2019-04-19T01:38:16.409539Z"
    }
   },
   "outputs": [
    {
     "data": {
      "text/plain": [
       "[2,\n",
       " 12,\n",
       " 22,\n",
       " 32,\n",
       " 42,\n",
       " 52,\n",
       " 62,\n",
       " 72,\n",
       " 82,\n",
       " 92,\n",
       " 102,\n",
       " 112,\n",
       " 122,\n",
       " 132,\n",
       " 142,\n",
       " 152,\n",
       " 162,\n",
       " 172,\n",
       " 182,\n",
       " 192]"
      ]
     },
     "execution_count": 115,
     "metadata": {},
     "output_type": "execute_result"
    }
   ],
   "source": [
    "Rdd.map(lambda x:x*3-x).collect()"
   ]
  },
  {
   "cell_type": "code",
   "execution_count": 2,
   "metadata": {
    "ExecuteTime": {
     "end_time": "2019-04-19T01:42:59.203730Z",
     "start_time": "2019-04-19T01:42:55.373910Z"
    }
   },
   "outputs": [],
   "source": [
    "#Finding the word with the lowest lenght\n",
    "from pyspark import SparkContext\n",
    "sc = SparkContext(master=\"local[4]\")"
   ]
  },
  {
   "cell_type": "code",
   "execution_count": 4,
   "metadata": {
    "ExecuteTime": {
     "end_time": "2019-04-19T01:44:20.144259Z",
     "start_time": "2019-04-19T01:44:19.738580Z"
    }
   },
   "outputs": [],
   "source": [
    "words = [\"this\", \"is\", \"the\", \"best\", \"mac\",\"ever\"]\n",
    "wordRDD = sc.parallelize(words)"
   ]
  },
  {
   "cell_type": "code",
   "execution_count": 15,
   "metadata": {
    "ExecuteTime": {
     "end_time": "2019-04-19T01:48:01.610590Z",
     "start_time": "2019-04-19T01:48:01.387500Z"
    }
   },
   "outputs": [
    {
     "data": {
      "text/plain": [
       "'is'"
      ]
     },
     "execution_count": 15,
     "metadata": {},
     "output_type": "execute_result"
    }
   ],
   "source": [
    "wordRDD.reduce(lambda w,v:w if len(w)<len(v) else v)"
   ]
  },
  {
   "cell_type": "code",
   "execution_count": 14,
   "metadata": {
    "ExecuteTime": {
     "end_time": "2019-04-19T01:47:58.666194Z",
     "start_time": "2019-04-19T01:47:58.651353Z"
    }
   },
   "outputs": [
    {
     "name": "stdout",
     "output_type": "stream",
     "text": [
      "2 is\n"
     ]
    }
   ],
   "source": [
    "minimum = len(words[0])\n",
    "for i in range(len(words)):\n",
    "    if len(words[i]) < minimum:\n",
    "        minimum = len(words[i])\n",
    "        word = words[i]\n",
    "print(minimum, word)"
   ]
  },
  {
   "cell_type": "code",
   "execution_count": null,
   "metadata": {},
   "outputs": [],
   "source": []
  },
  {
   "cell_type": "code",
   "execution_count": null,
   "metadata": {},
   "outputs": [],
   "source": []
  },
  {
   "cell_type": "code",
   "execution_count": null,
   "metadata": {},
   "outputs": [],
   "source": []
  },
  {
   "cell_type": "code",
   "execution_count": null,
   "metadata": {},
   "outputs": [],
   "source": []
  },
  {
   "cell_type": "code",
   "execution_count": null,
   "metadata": {},
   "outputs": [],
   "source": []
  },
  {
   "cell_type": "code",
   "execution_count": null,
   "metadata": {},
   "outputs": [],
   "source": []
  },
  {
   "cell_type": "code",
   "execution_count": null,
   "metadata": {},
   "outputs": [],
   "source": []
  },
  {
   "cell_type": "code",
   "execution_count": null,
   "metadata": {},
   "outputs": [],
   "source": []
  },
  {
   "cell_type": "code",
   "execution_count": null,
   "metadata": {},
   "outputs": [],
   "source": []
  },
  {
   "cell_type": "code",
   "execution_count": null,
   "metadata": {},
   "outputs": [],
   "source": []
  },
  {
   "cell_type": "code",
   "execution_count": null,
   "metadata": {},
   "outputs": [],
   "source": []
  },
  {
   "cell_type": "code",
   "execution_count": null,
   "metadata": {},
   "outputs": [],
   "source": []
  },
  {
   "cell_type": "code",
   "execution_count": null,
   "metadata": {},
   "outputs": [],
   "source": []
  },
  {
   "cell_type": "code",
   "execution_count": null,
   "metadata": {},
   "outputs": [],
   "source": []
  },
  {
   "cell_type": "code",
   "execution_count": null,
   "metadata": {},
   "outputs": [],
   "source": []
  },
  {
   "cell_type": "code",
   "execution_count": null,
   "metadata": {},
   "outputs": [],
   "source": []
  },
  {
   "cell_type": "code",
   "execution_count": null,
   "metadata": {},
   "outputs": [],
   "source": []
  },
  {
   "cell_type": "code",
   "execution_count": null,
   "metadata": {},
   "outputs": [],
   "source": []
  },
  {
   "cell_type": "code",
   "execution_count": null,
   "metadata": {},
   "outputs": [],
   "source": []
  },
  {
   "cell_type": "code",
   "execution_count": null,
   "metadata": {},
   "outputs": [],
   "source": []
  },
  {
   "cell_type": "code",
   "execution_count": null,
   "metadata": {},
   "outputs": [],
   "source": []
  },
  {
   "cell_type": "code",
   "execution_count": null,
   "metadata": {},
   "outputs": [],
   "source": []
  },
  {
   "cell_type": "code",
   "execution_count": null,
   "metadata": {},
   "outputs": [],
   "source": []
  },
  {
   "cell_type": "code",
   "execution_count": null,
   "metadata": {},
   "outputs": [],
   "source": []
  },
  {
   "cell_type": "code",
   "execution_count": null,
   "metadata": {},
   "outputs": [],
   "source": []
  },
  {
   "cell_type": "code",
   "execution_count": null,
   "metadata": {},
   "outputs": [],
   "source": []
  },
  {
   "cell_type": "code",
   "execution_count": null,
   "metadata": {},
   "outputs": [],
   "source": []
  },
  {
   "cell_type": "code",
   "execution_count": null,
   "metadata": {},
   "outputs": [],
   "source": []
  },
  {
   "cell_type": "code",
   "execution_count": null,
   "metadata": {},
   "outputs": [],
   "source": []
  },
  {
   "cell_type": "code",
   "execution_count": null,
   "metadata": {},
   "outputs": [],
   "source": []
  },
  {
   "cell_type": "code",
   "execution_count": null,
   "metadata": {},
   "outputs": [],
   "source": []
  },
  {
   "cell_type": "code",
   "execution_count": null,
   "metadata": {},
   "outputs": [],
   "source": []
  },
  {
   "cell_type": "code",
   "execution_count": null,
   "metadata": {},
   "outputs": [],
   "source": []
  },
  {
   "cell_type": "code",
   "execution_count": null,
   "metadata": {},
   "outputs": [],
   "source": []
  },
  {
   "cell_type": "code",
   "execution_count": null,
   "metadata": {},
   "outputs": [],
   "source": []
  },
  {
   "cell_type": "code",
   "execution_count": null,
   "metadata": {},
   "outputs": [],
   "source": []
  },
  {
   "cell_type": "code",
   "execution_count": null,
   "metadata": {},
   "outputs": [],
   "source": []
  },
  {
   "cell_type": "code",
   "execution_count": null,
   "metadata": {},
   "outputs": [],
   "source": []
  },
  {
   "cell_type": "code",
   "execution_count": null,
   "metadata": {},
   "outputs": [],
   "source": []
  },
  {
   "cell_type": "code",
   "execution_count": null,
   "metadata": {},
   "outputs": [],
   "source": []
  },
  {
   "cell_type": "code",
   "execution_count": null,
   "metadata": {},
   "outputs": [],
   "source": []
  },
  {
   "cell_type": "code",
   "execution_count": null,
   "metadata": {},
   "outputs": [],
   "source": []
  },
  {
   "cell_type": "code",
   "execution_count": null,
   "metadata": {},
   "outputs": [],
   "source": []
  },
  {
   "cell_type": "code",
   "execution_count": null,
   "metadata": {},
   "outputs": [],
   "source": []
  },
  {
   "cell_type": "code",
   "execution_count": null,
   "metadata": {},
   "outputs": [],
   "source": []
  },
  {
   "cell_type": "code",
   "execution_count": null,
   "metadata": {},
   "outputs": [],
   "source": []
  },
  {
   "cell_type": "code",
   "execution_count": null,
   "metadata": {},
   "outputs": [],
   "source": []
  },
  {
   "cell_type": "code",
   "execution_count": null,
   "metadata": {},
   "outputs": [],
   "source": []
  }
 ],
 "metadata": {
  "kernelspec": {
   "display_name": "Python 3",
   "language": "python",
   "name": "python3"
  },
  "language_info": {
   "codemirror_mode": {
    "name": "ipython",
    "version": 3
   },
   "file_extension": ".py",
   "mimetype": "text/x-python",
   "name": "python",
   "nbconvert_exporter": "python",
   "pygments_lexer": "ipython3",
   "version": "3.6.5"
  },
  "toc": {
   "base_numbering": 1,
   "nav_menu": {},
   "number_sections": true,
   "sideBar": true,
   "skip_h1_title": false,
   "title_cell": "Table of Contents",
   "title_sidebar": "Contents",
   "toc_cell": false,
   "toc_position": {},
   "toc_section_display": true,
   "toc_window_display": false
  },
  "varInspector": {
   "cols": {
    "lenName": 16,
    "lenType": 16,
    "lenVar": 40
   },
   "kernels_config": {
    "python": {
     "delete_cmd_postfix": "",
     "delete_cmd_prefix": "del ",
     "library": "var_list.py",
     "varRefreshCmd": "print(var_dic_list())"
    },
    "r": {
     "delete_cmd_postfix": ") ",
     "delete_cmd_prefix": "rm(",
     "library": "var_list.r",
     "varRefreshCmd": "cat(var_dic_list()) "
    }
   },
   "types_to_exclude": [
    "module",
    "function",
    "builtin_function_or_method",
    "instance",
    "_Feature"
   ],
   "window_display": false
  }
 },
 "nbformat": 4,
 "nbformat_minor": 2
}
